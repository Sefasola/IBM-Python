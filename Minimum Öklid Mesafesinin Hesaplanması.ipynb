{
  "nbformat": 4,
  "nbformat_minor": 0,
  "metadata": {
    "colab": {
      "provenance": [],
      "authorship_tag": "ABX9TyMOicteXoF3vpAvTrHaa0HW",
      "include_colab_link": true
    },
    "kernelspec": {
      "name": "python3",
      "display_name": "Python 3"
    },
    "language_info": {
      "name": "python"
    }
  },
  "cells": [
    {
      "cell_type": "markdown",
      "metadata": {
        "id": "view-in-github",
        "colab_type": "text"
      },
      "source": [
        "<a href=\"https://colab.research.google.com/github/Sefasola/IBM-Python/blob/main/Minimum%20%C3%96klid%20Mesafesinin%20Hesaplanmas%C4%B1.ipynb\" target=\"_parent\"><img src=\"https://colab.research.google.com/assets/colab-badge.svg\" alt=\"Open In Colab\"/></a>"
      ]
    },
    {
      "cell_type": "code",
      "execution_count": 1,
      "metadata": {
        "colab": {
          "base_uri": "https://localhost:8080/"
        },
        "id": "rMs8WoApe6MY",
        "outputId": "49890d8b-9260-40f1-aee1-f2dad62cc259"
      },
      "outputs": [
        {
          "output_type": "stream",
          "name": "stdout",
          "text": [
            "En kısa mesafe: 1.4142135623730951\n"
          ]
        }
      ],
      "source": [
        "import math\n",
        "\n",
        "def euclideanDistance(point1, point2):\n",
        "    \"\"\"\n",
        "    İki nokta arasındaki Öklid mesafesini hesaplar.\n",
        "    :param point1: Birinci nokta (x1, y1)\n",
        "    :param point2: İkinci nokta (x2, y2)\n",
        "    :return: İki nokta arasındaki mesafe\n",
        "    \"\"\"\n",
        "    return math.sqrt((point2[0] - point1[0]) ** 2 + (point2[1] - point1[1]) ** 2)\n",
        "\n",
        "def main():\n",
        "    # Noktaların tanımlanması\n",
        "    points = [(1, 2), (4, 6), (7, 8), (2, 1), (9, 4)]\n",
        "\n",
        "    # Mesafelerin hesaplanması\n",
        "    distances = []\n",
        "    for i in range(len(points)):\n",
        "        for j in range(i + 1, len(points)):\n",
        "            dist = euclideanDistance(points[i], points[j])\n",
        "            distances.append(dist)\n",
        "\n",
        "    # Minimum mesafenin bulunması\n",
        "    min_distance = min(distances)\n",
        "    print(\"En kısa mesafe:\", min_distance)\n",
        "\n",
        "if __name__ == \"__main__\":\n",
        "    main()\n"
      ]
    }
  ]
}